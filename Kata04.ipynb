{
 "cells": [
  {
   "cell_type": "markdown",
   "metadata": {},
   "source": [
    "# Ejercicio 1: Transformar cadenas"
   ]
  },
  {
   "cell_type": "code",
   "execution_count": 20,
   "metadata": {},
   "outputs": [
    {
     "name": "stdout",
     "output_type": "stream",
     "text": [
      "facts is Earth's satellite. several interesting facts affects moves This is significant cause effects highest is __________________________________________\n",
      "Interesting facts is Earth's satellite. several interesting facts affects moves This is significant cause effects highest is "
     ]
    }
   ],
   "source": [
    "text = \"\"\"Interesting facts about the Moon. The Moon is Earth's only satellite. There are several interesting facts about the Moon and how it affects life here on Earth. \n",
    "On average, the Moon moves 4cm away from the Earth every year. This yearly drift is not significant enough to cause immediate effects on Earth. The highest daylight temperature of the Moon is 127 C.\"\"\"\n",
    "\n",
    "text.split()\n",
    "\n",
    "busqueda = [\"average\", \"temperature\", \"distance\"]\n",
    "\n",
    "\n",
    "for data in text.split():\n",
    "    for busqueda in busqueda:\n",
    "        if busqueda in data:\n",
    "            print(data,end=\" \")\n",
    "            break\n",
    "\n",
    "print(\"__________________________________________\")\n",
    "\n",
    "for data in text.split():\n",
    "    for busqueda in busqueda:\n",
    "        if busqueda in data:\n",
    "            print(data.replace(' C', ' Celsius'),end=\" \")\n",
    "            break\n",
    "\n"
   ]
  },
  {
   "cell_type": "markdown",
   "metadata": {},
   "source": [
    "# Ejercicio 2: Formateando Cadenas"
   ]
  },
  {
   "cell_type": "code",
   "execution_count": 26,
   "metadata": {},
   "outputs": [
    {
     "name": "stdout",
     "output_type": "stream",
     "text": [
      "La Tierra y su satelite  con gravedad Earth\n",
      "-------------------------------------------------------------------------------- \n",
      "Nombre del planeta: Earth \n",
      "Gravedad en Moon: 1.6199999999999999 m/s2 \n",
      "\n"
     ]
    }
   ],
   "source": [
    "# Datos con los que vas a trabajar\n",
    "name = \"Moon\"\n",
    "gravity = 0.00162 # in kms\n",
    "planet = \"Earth\"\n",
    "\n",
    "\n",
    "title = f'La Tierra y su satelite  con gravedad {planet}'\n",
    "\n",
    "print(title)\n",
    "\n",
    "\n",
    "hechos = f\"\"\"{'-'*80} \n",
    "Nombre del planeta: {planet} \n",
    "Gravedad en {name}: {gravity * 1000} m/s2 \n",
    "\"\"\"\n",
    "\n",
    "template = f\"\"\"{title.title()} \n",
    "{hechos} \n",
    "\"\"\" \n",
    "print(hechos)\n",
    "\n"
   ]
  },
  {
   "cell_type": "code",
   "execution_count": 37,
   "metadata": {},
   "outputs": [
    {
     "name": "stdout",
     "output_type": "stream",
     "text": [
      "\n",
      "Datos de Gravedad sobre: Marte \n",
      "-------------------------------------------------------------------------------\n",
      "Nombre del planeta: Ganímedes\n",
      "Gravedad en Marte : 0.00143 m/s2\n",
      "\n",
      "\n",
      "Datos de Gravedad sobre: Marte \n",
      "-------------------------------------------------------------------------------\n",
      "Nombre del planeta: Ganímedes\n",
      "Gravedad en Marte : 1.4300000000000002 m/s2\n",
      "\n"
     ]
    }
   ],
   "source": [
    "name = 'Marte '\n",
    "gravity  = 0.00143\n",
    "planet = 'Ganímedes'\n",
    "\n",
    "\n",
    "\n",
    "new_template = \"\"\"\n",
    "Datos de Gravedad sobre: {nombre}\n",
    "-------------------------------------------------------------------------------\n",
    "Nombre del planeta: {planeta}\n",
    "Gravedad en {nombre}: {gravedad} m/s2\n",
    "\"\"\"\n",
    "print(new_template.format(nombre=name, planeta=planet, gravedad=gravity))\n",
    "\n",
    "\n",
    "print(new_template.format(nombre=name, planeta=planet, gravedad=gravity*1000))"
   ]
  }
 ],
 "metadata": {
  "interpreter": {
   "hash": "797a467145c5142dbfcab8db7f36729ee520f9ae6b923ae0e7ad053ee3ea8a6c"
  },
  "kernelspec": {
   "display_name": "Python 3.10.2 64-bit",
   "language": "python",
   "name": "python3"
  },
  "language_info": {
   "codemirror_mode": {
    "name": "ipython",
    "version": 3
   },
   "file_extension": ".py",
   "mimetype": "text/x-python",
   "name": "python",
   "nbconvert_exporter": "python",
   "pygments_lexer": "ipython3",
   "version": "3.10.2"
  },
  "orig_nbformat": 4
 },
 "nbformat": 4,
 "nbformat_minor": 2
}
