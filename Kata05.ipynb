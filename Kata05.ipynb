{
 "cells": [
  {
   "cell_type": "markdown",
   "metadata": {},
   "source": [
    "# Ejercicio1 - Utilizar operadores aritméticos"
   ]
  },
  {
   "cell_type": "code",
   "execution_count": 28,
   "metadata": {},
   "outputs": [
    {
     "name": "stdout",
     "output_type": "stream",
     "text": [
      "628949330 \n",
      " 390577533.93\n"
     ]
    }
   ],
   "source": [
    "Tierra = 149597870\n",
    "Jupiter = 778547200\n",
    "\n",
    "distancia= Jupiter - Tierra\n",
    "\n",
    "millas = distancia* 0.621\n",
    "\n",
    "print(distancia,\"\\n\", millas)"
   ]
  },
  {
   "cell_type": "markdown",
   "metadata": {},
   "source": [
    "# Ejercicio 2: convierte cadenas en números y usa valores absolutos"
   ]
  },
  {
   "cell_type": "code",
   "execution_count": 31,
   "metadata": {},
   "outputs": [
    {
     "name": "stdout",
     "output_type": "stream",
     "text": [
      "-717430670 \n",
      " -445524446.07\n"
     ]
    }
   ],
   "source": [
    "Tierra = input('cual es la distancia en km del sol a la tierra ')\n",
    "Jupiter = input('cual es la distancia en km del sol a la Jupiter ')\n",
    "\n",
    "\n",
    "distancia= int(Jupiter) - int(Tierra)\n",
    "\n",
    "millas = int(distancia)* 0.621\n",
    "\n",
    "print(distancia,\"\\n\", millas)\n",
    "\n"
   ]
  }
 ],
 "metadata": {
  "language_info": {
   "name": "python"
  },
  "orig_nbformat": 4
 },
 "nbformat": 4,
 "nbformat_minor": 2
}
