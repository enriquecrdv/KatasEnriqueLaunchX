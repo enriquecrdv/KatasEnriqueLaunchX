{
 "cells": [
  {
   "cell_type": "markdown",
   "metadata": {},
   "source": [
    "# Ejercicio1: Crear y usar listas de Python"
   ]
  },
  {
   "cell_type": "code",
   "execution_count": 19,
   "metadata": {},
   "outputs": [
    {
     "name": "stdout",
     "output_type": "stream",
     "text": [
      "son  7 planetas\n",
      "pluton es el ultimo planeta\n"
     ]
    }
   ],
   "source": [
    "planetas = [\"Mercurio\", \"Venus\",  \"Tierra\" , \"Marte,Jupiter\", \"Saturno\", \"Urano\" , \"Neptuno\" ]\n",
    "\n",
    "\n",
    "print(\"son \" , len(planetas), \"planetas\")\n",
    "\n",
    "planetas.append(\"pluton\")\n",
    "\n",
    "\n",
    "print(planetas[-1], 'es el ultimo planeta')\n"
   ]
  },
  {
   "cell_type": "markdown",
   "metadata": {},
   "source": [
    "# Ejercicio 2: Trabajando con datos de una lista"
   ]
  },
  {
   "cell_type": "code",
   "execution_count": 1,
   "metadata": {},
   "outputs": [
    {
     "ename": "ValueError",
     "evalue": "'2' is not in list",
     "output_type": "error",
     "traceback": [
      "\u001b[1;31m---------------------------------------------------------------------------\u001b[0m",
      "\u001b[1;31mValueError\u001b[0m                                Traceback (most recent call last)",
      "\u001b[1;32mc:\\Users\\Hompets\\Desktop\\KatasEnriqueLaunchX\\Kata06.ipynb Cell 4'\u001b[0m in \u001b[0;36m<module>\u001b[1;34m\u001b[0m\n\u001b[0;32m      <a href='vscode-notebook-cell:/c%3A/Users/Hompets/Desktop/KatasEnriqueLaunchX/Kata06.ipynb#ch0000003?line=0'>1</a>\u001b[0m planetas \u001b[39m=\u001b[39m [\u001b[39m'\u001b[39m\u001b[39mMercury\u001b[39m\u001b[39m'\u001b[39m, \u001b[39m'\u001b[39m\u001b[39mVenus\u001b[39m\u001b[39m'\u001b[39m, \u001b[39m'\u001b[39m\u001b[39mEarth\u001b[39m\u001b[39m'\u001b[39m, \u001b[39m'\u001b[39m\u001b[39mMars\u001b[39m\u001b[39m'\u001b[39m, \u001b[39m'\u001b[39m\u001b[39mJupiter\u001b[39m\u001b[39m'\u001b[39m, \u001b[39m'\u001b[39m\u001b[39mSaturn\u001b[39m\u001b[39m'\u001b[39m, \u001b[39m'\u001b[39m\u001b[39mNeptune\u001b[39m\u001b[39m'\u001b[39m]\n\u001b[0;32m      <a href='vscode-notebook-cell:/c%3A/Users/Hompets/Desktop/KatasEnriqueLaunchX/Kata06.ipynb#ch0000003?line=3'>4</a>\u001b[0m seleccion \u001b[39m=\u001b[39m \u001b[39minput\u001b[39m(\u001b[39m\"\u001b[39m\u001b[39mSelecciona un planeta\u001b[39m\u001b[39m\"\u001b[39m)\n\u001b[1;32m----> <a href='vscode-notebook-cell:/c%3A/Users/Hompets/Desktop/KatasEnriqueLaunchX/Kata06.ipynb#ch0000003?line=5'>6</a>\u001b[0m buscar \u001b[39m=\u001b[39m planetas\u001b[39m.\u001b[39;49mindex(seleccion)\n\u001b[0;32m      <a href='vscode-notebook-cell:/c%3A/Users/Hompets/Desktop/KatasEnriqueLaunchX/Kata06.ipynb#ch0000003?line=7'>8</a>\u001b[0m \u001b[39mprint\u001b[39m(\u001b[39m\"\u001b[39m\u001b[39mLos planetas mas cercanos al sol que el planeta \u001b[39m\u001b[39m\"\u001b[39m,planetas[buscar], )\n\u001b[0;32m     <a href='vscode-notebook-cell:/c%3A/Users/Hompets/Desktop/KatasEnriqueLaunchX/Kata06.ipynb#ch0000003?line=9'>10</a>\u001b[0m \u001b[39mprint\u001b[39m(\u001b[39m\"\u001b[39m\u001b[39mSon\u001b[39m\u001b[39m\"\u001b[39m ,planetas[\u001b[39m0\u001b[39m:buscar])\n",
      "\u001b[1;31mValueError\u001b[0m: '2' is not in list"
     ]
    }
   ],
   "source": [
    "planetas = ['Mercury', 'Venus', 'Earth', 'Mars', 'Jupiter', 'Saturn', 'Neptune']\n",
    "\n",
    "\n",
    "seleccion = input(\"Selecciona un planeta\")\n",
    "\n",
    "buscar = planetas.index(seleccion)\n",
    "\n",
    "print(\"Los planetas mas cercanos al sol que el planeta \",planetas[buscar], )\n",
    "\n",
    "print(\"Son\" ,planetas[0:buscar])"
   ]
  },
  {
   "cell_type": "markdown",
   "metadata": {},
   "source": []
  }
 ],
 "metadata": {
  "interpreter": {
   "hash": "797a467145c5142dbfcab8db7f36729ee520f9ae6b923ae0e7ad053ee3ea8a6c"
  },
  "kernelspec": {
   "display_name": "Python 3.10.2 64-bit",
   "language": "python",
   "name": "python3"
  },
  "language_info": {
   "codemirror_mode": {
    "name": "ipython",
    "version": 3
   },
   "file_extension": ".py",
   "mimetype": "text/x-python",
   "name": "python",
   "nbconvert_exporter": "python",
   "pygments_lexer": "ipython3",
   "version": "3.10.2"
  },
  "orig_nbformat": 4
 },
 "nbformat": 4,
 "nbformat_minor": 2
}
